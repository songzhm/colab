{
  "nbformat": 4,
  "nbformat_minor": 0,
  "metadata": {
    "colab": {
      "name": "numerical_method_for_matrix_computation.ipynb",
      "version": "0.3.2",
      "provenance": [],
      "collapsed_sections": [],
      "include_colab_link": true
    },
    "kernelspec": {
      "name": "python3",
      "display_name": "Python 3"
    }
  },
  "cells": [
    {
      "cell_type": "markdown",
      "metadata": {
        "id": "view-in-github",
        "colab_type": "text"
      },
      "source": [
        "<a href=\"https://colab.research.google.com/github/songzhm/colab/blob/master/numerical_method_for_matrix_computation.ipynb\" target=\"_parent\"><img src=\"https://colab.research.google.com/assets/colab-badge.svg\" alt=\"Open In Colab\"/></a>"
      ]
    },
    {
      "metadata": {
        "id": "GSvWSb6QEgn1",
        "colab_type": "code",
        "colab": {}
      },
      "cell_type": "code",
      "source": [
        "import numpy as np"
      ],
      "execution_count": 0,
      "outputs": []
    },
    {
      "metadata": {
        "id": "hzd5IVSaJjql",
        "colab_type": "text"
      },
      "cell_type": "markdown",
      "source": [
        "Create diagonalizable Matrix A, with dominant eigenvalue 100"
      ]
    },
    {
      "metadata": {
        "id": "BVUsPgrkEjbe",
        "colab_type": "code",
        "colab": {}
      },
      "cell_type": "code",
      "source": [
        "lambdas = [100] + [i for i in range(50, 1, -1)]\n",
        "L = np.diag(lambdas)"
      ],
      "execution_count": 0,
      "outputs": []
    },
    {
      "metadata": {
        "id": "izhJtKoNFZyl",
        "colab_type": "code",
        "colab": {}
      },
      "cell_type": "code",
      "source": [
        "P = np.random.rand(50, 50)*10"
      ],
      "execution_count": 0,
      "outputs": []
    },
    {
      "metadata": {
        "id": "6BWIyrm_H2af",
        "colab_type": "code",
        "colab": {}
      },
      "cell_type": "code",
      "source": [
        "Q, _ = np.linalg.qr(P)"
      ],
      "execution_count": 0,
      "outputs": []
    },
    {
      "metadata": {
        "id": "jBSI8b1FIIeI",
        "colab_type": "code",
        "colab": {}
      },
      "cell_type": "code",
      "source": [
        "A = Q @ L @ np.linalg.inv(Q)"
      ],
      "execution_count": 0,
      "outputs": []
    },
    {
      "metadata": {
        "id": "j1VZ0w9sIV3q",
        "colab_type": "code",
        "colab": {
          "base_uri": "https://localhost:8080/",
          "height": 238
        },
        "outputId": "6767b379-c276-4548-bf4f-0e1fa4dedbe0"
      },
      "cell_type": "code",
      "source": [
        "A"
      ],
      "execution_count": 6,
      "outputs": [
        {
          "output_type": "execute_result",
          "data": {
            "text/plain": [
              "array([[24.32661154,  1.5104027 ,  2.0425323 , ..., -0.5636032 ,\n",
              "         2.94374382,  2.12305809],\n",
              "       [ 1.5104027 , 28.02572813, -1.92541271, ...,  0.67935422,\n",
              "         0.35956752,  0.57235243],\n",
              "       [ 2.0425323 , -1.92541271, 25.36296107, ...,  0.39702983,\n",
              "         0.58801861, -0.95586545],\n",
              "       ...,\n",
              "       [-0.5636032 ,  0.67935422,  0.39702983, ..., 28.44598142,\n",
              "         1.71629184,  3.44011944],\n",
              "       [ 2.94374382,  0.35956752,  0.58801861, ...,  1.71629184,\n",
              "        27.36240904,  0.57472931],\n",
              "       [ 2.12305809,  0.57235243, -0.95586545, ...,  3.44011944,\n",
              "         0.57472931, 28.14359214]])"
            ]
          },
          "metadata": {
            "tags": []
          },
          "execution_count": 6
        }
      ]
    },
    {
      "metadata": {
        "id": "fZfDQ_BDJN8Z",
        "colab_type": "code",
        "colab": {}
      },
      "cell_type": "code",
      "source": [
        "def powerInteration(A, lambda_init, v_init, max_iter = 1000, epsilon=1e-3):\n",
        "  x = v_init\n",
        "  l = lambda_init\n",
        "  residual = 999.0\n",
        "  counter = 0\n",
        "  while residual > epsilon or counter<max_iter:\n",
        "    \n",
        "    counter = counter + 1\n",
        "    \n",
        "    v = A @ x/l\n",
        "    l = l * (v @ v)/(v @ x)\n",
        "    residual = np.linalg.norm(x-v)/np.linalg.norm(v)\n",
        "    x = v\n",
        "    \n",
        "    print (residual, counter)\n",
        "  return l, x/np.linalg.norm(x)"
      ],
      "execution_count": 0,
      "outputs": []
    },
    {
      "metadata": {
        "id": "SrvsCv9gOcWJ",
        "colab_type": "code",
        "colab": {
          "base_uri": "https://localhost:8080/"
        },
        "outputId": "630eebc5-0480-406f-9c2d-ea50010a6b0f"
      },
      "cell_type": "code",
      "source": [
        "powerInteration(A, 10, np.random.randint(0, 100, A.shape[0]))"
      ],
      "execution_count": 1,
      "outputs": [
        {
          "output_type": "error",
          "ename": "NameError",
          "evalue": "ignored",
          "traceback": [
            "\u001b[0;31m---------------------------------------------------------------------------\u001b[0m",
            "\u001b[0;31mNameError\u001b[0m                                 Traceback (most recent call last)",
            "\u001b[0;32m<ipython-input-1-3ca6998263b4>\u001b[0m in \u001b[0;36m<module>\u001b[0;34m()\u001b[0m\n\u001b[0;32m----> 1\u001b[0;31m \u001b[0mpowerInteration\u001b[0m\u001b[0;34m(\u001b[0m\u001b[0mA\u001b[0m\u001b[0;34m,\u001b[0m \u001b[0;36m10\u001b[0m\u001b[0;34m,\u001b[0m \u001b[0mnp\u001b[0m\u001b[0;34m.\u001b[0m\u001b[0mrandom\u001b[0m\u001b[0;34m.\u001b[0m\u001b[0mrandint\u001b[0m\u001b[0;34m(\u001b[0m\u001b[0;36m0\u001b[0m\u001b[0;34m,\u001b[0m \u001b[0;36m100\u001b[0m\u001b[0;34m,\u001b[0m \u001b[0mA\u001b[0m\u001b[0;34m.\u001b[0m\u001b[0mshape\u001b[0m\u001b[0;34m[\u001b[0m\u001b[0;36m0\u001b[0m\u001b[0;34m]\u001b[0m\u001b[0;34m)\u001b[0m\u001b[0;34m)\u001b[0m\u001b[0;34m\u001b[0m\u001b[0m\n\u001b[0m",
            "\u001b[0;31mNameError\u001b[0m: name 'powerInteration' is not defined"
          ]
        }
      ]
    },
    {
      "metadata": {
        "id": "DWl2FK7hO7sY",
        "colab_type": "code",
        "colab": {
          "base_uri": "https://localhost:8080/",
          "height": 34
        },
        "outputId": "4b477447-6319-463c-a82f-35aba5c3f694"
      },
      "cell_type": "code",
      "source": [
        ""
      ],
      "execution_count": 30,
      "outputs": [
        {
          "output_type": "execute_result",
          "data": {
            "text/plain": [
              "array([27, 98, 92, 56, 95, 21, 53, 59, 56, 40])"
            ]
          },
          "metadata": {
            "tags": []
          },
          "execution_count": 30
        }
      ]
    },
    {
      "metadata": {
        "id": "9Ne0lB6rO_4H",
        "colab_type": "code",
        "colab": {}
      },
      "cell_type": "code",
      "source": [
        "Q[1]"
      ],
      "execution_count": 0,
      "outputs": []
    }
  ]
}